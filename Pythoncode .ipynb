{
 "cells": [
  {
   "cell_type": "code",
   "execution_count": null,
   "metadata": {},
   "outputs": [],
   "source": [
    "# 1.Add two numbers"
   ]
  },
  {
   "cell_type": "code",
   "execution_count": 3,
   "metadata": {},
   "outputs": [
    {
     "name": "stdout",
     "output_type": "stream",
     "text": [
      "The sum of 79 and 45 is 124\n"
     ]
    }
   ],
   "source": [
    "num1 = 79\n",
    "num2 = 45 \n",
    "sum = num1 + num2\n",
    "print('The sum of {0} and {1} is {2}'.format(num1,num2,sum))"
   ]
  },
  {
   "cell_type": "markdown",
   "metadata": {},
   "source": []
  },
  {
   "cell_type": "code",
   "execution_count": null,
   "metadata": {},
   "outputs": [],
   "source": [
    "# 2. Add  two numbers with user input"
   ]
  },
  {
   "cell_type": "code",
   "execution_count": 15,
   "metadata": {},
   "outputs": [
    {
     "name": "stdout",
     "output_type": "stream",
     "text": [
      "enter the first number23.56\n",
      "enter the second number89.7\n",
      "113.26\n"
     ]
    }
   ],
   "source": [
    "num3 = input('enter the first number')\n",
    "num4 = input('enter the second number')\n",
    "sum = float(num3) + float(num4)\n",
    "print(sum)"
   ]
  },
  {
   "cell_type": "code",
   "execution_count": null,
   "metadata": {},
   "outputs": [],
   "source": [
    "# 2.Subtraction "
   ]
  },
  {
   "cell_type": "code",
   "execution_count": 12,
   "metadata": {},
   "outputs": [
    {
     "name": "stdout",
     "output_type": "stream",
     "text": [
      "The sub of 559 and 451 is 108\n"
     ]
    }
   ],
   "source": [
    "num1 = 559\n",
    "num2 = 451 \n",
    "val = num1 - num2\n",
    "print('The sub of {0} and {1} is {2}'.format(num1,num2,val))"
   ]
  },
  {
   "cell_type": "code",
   "execution_count": null,
   "metadata": {},
   "outputs": [],
   "source": [
    "#with  user input"
   ]
  },
  {
   "cell_type": "code",
   "execution_count": 20,
   "metadata": {},
   "outputs": [
    {
     "name": "stdout",
     "output_type": "stream",
     "text": [
      "enter first number:43.78\n",
      "enter second number:21.6\n",
      "The sub is 22.180000\n"
     ]
    }
   ],
   "source": [
    "print('The sub is %1f' %(float(input('enter first number:')) - float(input('enter second number:'))))"
   ]
  },
  {
   "cell_type": "code",
   "execution_count": 21,
   "metadata": {},
   "outputs": [
    {
     "name": "stdout",
     "output_type": "stream",
     "text": [
      "enter first number:23.5\n",
      "enter second number:-3.5\n",
      "The sub is 20.000000\n"
     ]
    }
   ],
   "source": [
    "print('The sub is %1f' %(float(input('enter first number:')) + float(input('enter second number:'))))"
   ]
  },
  {
   "cell_type": "code",
   "execution_count": null,
   "metadata": {},
   "outputs": [],
   "source": [
    "# with user input"
   ]
  },
  {
   "cell_type": "code",
   "execution_count": 14,
   "metadata": {},
   "outputs": [
    {
     "name": "stdout",
     "output_type": "stream",
     "text": [
      "enter the first number456.99\n",
      "enter the second number342.116\n",
      "114.87400000000002\n"
     ]
    }
   ],
   "source": [
    "num1 = input('enter the first number')\n",
    "num2 = input('enter the second number')\n",
    "sub = float(num1) - float(num2)\n",
    "print(sub)"
   ]
  },
  {
   "cell_type": "code",
   "execution_count": null,
   "metadata": {},
   "outputs": [],
   "source": [
    "# 3. Multiplication"
   ]
  },
  {
   "cell_type": "code",
   "execution_count": 16,
   "metadata": {},
   "outputs": [
    {
     "name": "stdout",
     "output_type": "stream",
     "text": [
      "The sub of 55 and 51 is 2805\n"
     ]
    }
   ],
   "source": [
    "num1 = 55\n",
    "num2 = 51 \n",
    "val = num1 * num2\n",
    "print('The sub of {0} and {1} is {2}'.format(num1,num2,val))"
   ]
  },
  {
   "cell_type": "code",
   "execution_count": 17,
   "metadata": {},
   "outputs": [
    {
     "name": "stdout",
     "output_type": "stream",
     "text": [
      "enter the first number23.89\n",
      "enter the second number45.87\n",
      "1095.8343\n"
     ]
    }
   ],
   "source": [
    "num1 = input('enter the first number')\n",
    "num2 = input('enter the second number')\n",
    "mul = float(num1) * float(num2)\n",
    "print(mul)"
   ]
  },
  {
   "cell_type": "code",
   "execution_count": null,
   "metadata": {},
   "outputs": [],
   "source": [
    "# Division"
   ]
  },
  {
   "cell_type": "code",
   "execution_count": 18,
   "metadata": {},
   "outputs": [
    {
     "name": "stdout",
     "output_type": "stream",
     "text": [
      "The sub of 55 and 11 is 5.0\n"
     ]
    }
   ],
   "source": [
    "num1 = 55\n",
    "num2 = 11 \n",
    "val = num1 / num2\n",
    "print('The sub of {0} and {1} is {2}'.format(num1,num2,val))"
   ]
  },
  {
   "cell_type": "code",
   "execution_count": 19,
   "metadata": {},
   "outputs": [
    {
     "name": "stdout",
     "output_type": "stream",
     "text": [
      "enter the first number34.76\n",
      "enter the second number2.6\n",
      "13.369230769230768\n"
     ]
    }
   ],
   "source": [
    "num1 = input('enter the first number')\n",
    "num2 = input('enter the second number')\n",
    "div = float(num1) / float(num2)\n",
    "print(div)"
   ]
  },
  {
   "cell_type": "code",
   "execution_count": null,
   "metadata": {},
   "outputs": [],
   "source": [
    "# The built-in function month() inside the module takes in the year and the month and displays the calender\n",
    "for that month of year"
   ]
  },
  {
   "cell_type": "code",
   "execution_count": 23,
   "metadata": {},
   "outputs": [
    {
     "name": "stdout",
     "output_type": "stream",
     "text": [
      "   November 1998\n",
      "Mo Tu We Th Fr Sa Su\n",
      "                   1\n",
      " 2  3  4  5  6  7  8\n",
      " 9 10 11 12 13 14 15\n",
      "16 17 18 19 20 21 22\n",
      "23 24 25 26 27 28 29\n",
      "30\n",
      "\n"
     ]
    }
   ],
   "source": [
    "import calendar\n",
    "yy = 1998 #year\n",
    "mm = 11 #month\n",
    "print(calendar.month(yy,mm))"
   ]
  },
  {
   "cell_type": "code",
   "execution_count": 25,
   "metadata": {},
   "outputs": [
    {
     "name": "stdout",
     "output_type": "stream",
     "text": [
      "    January 1997\n",
      "Mo Tu We Th Fr Sa Su\n",
      "       1  2  3  4  5\n",
      " 6  7  8  9 10 11 12\n",
      "13 14 15 16 17 18 19\n",
      "20 21 22 23 24 25 26\n",
      "27 28 29 30 31\n",
      "\n"
     ]
    }
   ],
   "source": [
    "import calendar\n",
    "yy = 1997 #year\n",
    "mm = 1 #month\n",
    "print(calendar.month(yy,mm))"
   ]
  },
  {
   "cell_type": "code",
   "execution_count": 27,
   "metadata": {},
   "outputs": [],
   "source": [
    "# find the value of pi \n",
    "import math"
   ]
  },
  {
   "cell_type": "code",
   "execution_count": 28,
   "metadata": {},
   "outputs": [
    {
     "name": "stdout",
     "output_type": "stream",
     "text": [
      "The value of pi is 3.141592653589793\n"
     ]
    }
   ],
   "source": [
    "print(\"The value of pi is\",math.pi)"
   ]
  },
  {
   "cell_type": "code",
   "execution_count": 29,
   "metadata": {},
   "outputs": [
    {
     "name": "stdout",
     "output_type": "stream",
     "text": [
      "3.141592653589793\n"
     ]
    }
   ],
   "source": [
    "print(math.pi)"
   ]
  },
  {
   "cell_type": "code",
   "execution_count": null,
   "metadata": {},
   "outputs": [],
   "source": [
    "# Swap two numbers"
   ]
  },
  {
   "cell_type": "code",
   "execution_count": 34,
   "metadata": {},
   "outputs": [
    {
     "name": "stdout",
     "output_type": "stream",
     "text": [
      "The value of x: 9\n",
      "The value of y: 4\n"
     ]
    }
   ],
   "source": [
    "x=4\n",
    "y=9\n",
    "temp = x\n",
    "x = y\n",
    "y = temp   \n",
    "print(\"The value of x:\",x)\n",
    "print(\"The value of y:\",y)"
   ]
  },
  {
   "cell_type": "code",
   "execution_count": 35,
   "metadata": {},
   "outputs": [
    {
     "name": "stdout",
     "output_type": "stream",
     "text": [
      "Enter the first value34\n",
      "Enter the second value21\n",
      "The value of x: 21\n",
      "The value of y: 34\n"
     ]
    }
   ],
   "source": [
    "x=input('Enter the first value')\n",
    "\n",
    "y=input('Enter the second value')\n",
    "temp = x\n",
    "x = y\n",
    "y = temp   \n",
    "print(\"The value of x:\",x)\n",
    "print(\"The value of y:\",y)"
   ]
  },
  {
   "cell_type": "code",
   "execution_count": null,
   "metadata": {},
   "outputs": [],
   "source": [
    "# Maximum of two number"
   ]
  },
  {
   "cell_type": "code",
   "execution_count": 1,
   "metadata": {},
   "outputs": [
    {
     "name": "stdout",
     "output_type": "stream",
     "text": [
      "Enter the first number:28\n",
      "Enter the second number:67\n",
      "b is greater than a 67.0\n"
     ]
    }
   ],
   "source": [
    "a = (input('Enter the first number:'))\n",
    "b = (input('Enter the second number:'))\n",
    "if (a>b):\n",
    "    print('a is greater than b',float(format(a,b)))\n",
    "elif(b>a):\n",
    "    print('b is greater than a',float(format(b,a)))\n",
    "else:\n",
    "    print('both are equal')"
   ]
  },
  {
   "cell_type": "code",
   "execution_count": 2,
   "metadata": {},
   "outputs": [
    {
     "name": "stdout",
     "output_type": "stream",
     "text": [
      "Enter the first number:32\n",
      "Enter the second number:24\n",
      "b is less than a\n"
     ]
    }
   ],
   "source": [
    "a = (input('Enter the first number:'))\n",
    "b = (input('Enter the second number:'))\n",
    "if (a<b):\n",
    "    print('a is less than b')\n",
    "elif(b<a):\n",
    "    print('b is less than a')\n",
    "else:\n",
    "    print('both are equal')"
   ]
  },
  {
   "cell_type": "code",
   "execution_count": 7,
   "metadata": {},
   "outputs": [
    {
     "name": "stdout",
     "output_type": "stream",
     "text": [
      "a is less than b\n"
     ]
    }
   ],
   "source": [
    "a = 45\n",
    "b = 67\n",
    "if (a<b):\n",
    "    print('a is less than b')\n",
    "elif(b<a):\n",
    "    print('b is less than a')\n",
    "else:\n",
    "    print('both are equal')"
   ]
  },
  {
   "cell_type": "code",
   "execution_count": null,
   "metadata": {},
   "outputs": [],
   "source": []
  },
  {
   "cell_type": "code",
   "execution_count": null,
   "metadata": {},
   "outputs": [],
   "source": []
  },
  {
   "cell_type": "code",
   "execution_count": null,
   "metadata": {},
   "outputs": [],
   "source": []
  },
  {
   "cell_type": "code",
   "execution_count": null,
   "metadata": {},
   "outputs": [],
   "source": []
  },
  {
   "cell_type": "code",
   "execution_count": null,
   "metadata": {},
   "outputs": [],
   "source": []
  },
  {
   "cell_type": "code",
   "execution_count": null,
   "metadata": {},
   "outputs": [],
   "source": []
  },
  {
   "cell_type": "code",
   "execution_count": null,
   "metadata": {},
   "outputs": [],
   "source": []
  },
  {
   "cell_type": "code",
   "execution_count": null,
   "metadata": {},
   "outputs": [],
   "source": []
  },
  {
   "cell_type": "code",
   "execution_count": null,
   "metadata": {},
   "outputs": [],
   "source": []
  },
  {
   "cell_type": "code",
   "execution_count": null,
   "metadata": {},
   "outputs": [],
   "source": []
  }
 ],
 "metadata": {
  "kernelspec": {
   "display_name": "Python 3",
   "language": "python",
   "name": "python3"
  },
  "language_info": {
   "codemirror_mode": {
    "name": "ipython",
    "version": 3
   },
   "file_extension": ".py",
   "mimetype": "text/x-python",
   "name": "python",
   "nbconvert_exporter": "python",
   "pygments_lexer": "ipython3",
   "version": "3.8.5"
  }
 },
 "nbformat": 4,
 "nbformat_minor": 4
}
